{
 "cells": [
  {
   "cell_type": "markdown",
   "metadata": {},
   "source": [
    "<h2>Who wants a piece of Py?</h2>"
   ]
  },
  {
   "cell_type": "markdown",
   "metadata": {},
   "source": [
    "<h1>WhoPy #002</h1>\n",
    "<h2>More fun with the library</h2>"
   ]
  },
  {
   "cell_type": "markdown",
   "metadata": {},
   "source": [
    "Na początek załadujemy kilka gotowych bibliotek python'a\n",
    "importujemy i wykonujemy ten blok <b>Shift+ENTER</b>"
   ]
  },
  {
   "cell_type": "code",
   "execution_count": 21,
   "metadata": {
    "collapsed": true
   },
   "outputs": [],
   "source": [
    "import numpy as np  #to taka biblioteka z funkcjami numerycznymi jak tablice i inne takie tam      \n",
    "import matplotlib.pyplot as plt #to biblioteka pozwalajaca nam wykreslać wykresyb"
   ]
  },
  {
   "cell_type": "markdown",
   "metadata": {},
   "source": [
    "teraz czas załadować naszą własną bibliotekę<br>\n",
    "importujemy i wykonujemy ten blok <b>Shift+ENTER</b>"
   ]
  },
  {
   "cell_type": "code",
   "execution_count": 22,
   "metadata": {
    "collapsed": true
   },
   "outputs": [],
   "source": [
    "#importing our own library\n",
    "from thermalModelLibrary import functionsLibrary as tml"
   ]
  },
  {
   "cell_type": "markdown",
   "metadata": {},
   "source": [
    "<p>czyli z naszego pakietu <i>thermalModelLibrary</i> importujemy <i>functionsLibrary</i> (taki zbiór funkcji wszelakich) jako <i>tml</i> - bo to łatwiej napisac w kodzie niźli pełną nazwę</p>\n",
    "<h2>Mamy biblioteki - możemy działać</h2>\n",
    "<br>\n",
    "<p>Na start zdefiniujmy sobie analizowaną geometrię szyny. Powiedzmy, że coś takiego: szyna 40x10mm długości 250mm z dwoma otworami na początku i na końcu.\n",
    "<img src='img/simpleCopperBar40x10.png'>\n",
    "</p>\n",
    "<p>Zdefiniujmy zatem opis tej geometrii w postaci macierzowej dzieląc ja na <i>segmenty</i>:</p>\n",
    "<ul>\n",
    "    <li>segment 40x10,10mm dłogości, bez otworu\n",
    "    <li>segment 40x10,15mm długości, otwór 14mm\n",
    "    <li>segment 40x10,200mm długości, bez otworu\n",
    "    <li>segment 40x10,15mm długości, otwór 14mm\n",
    "    <li>segment 40x10,10mm dłogości, bez otworu\n",
    "</ul>\n",
    "\n",
    "<p> i wykonujemy ten blok <b>Shift+ENTER</b>    "
   ]
  },
  {
   "cell_type": "code",
   "execution_count": 23,
   "metadata": {
    "collapsed": true
   },
   "outputs": [],
   "source": [
    "# Definig the bar as segments of geometry\n",
    "# the formula is for each ssegment\n",
    "# [[SegmentHeight, SegmentThickness, SegmentLenght, CutoutHeight]]\n",
    "# Cutout is assumed to be along entire segment lenght\n",
    "\n",
    "copperBarGeometry = np.array([\\\n",
    "                              [40,10,10,0],\\\n",
    "                              [40,10,15,14],\\\n",
    "                              [40,10,200,0],\\\n",
    "                              [40,10,15,14],\\\n",
    "                              [40,10,10,0],\\\n",
    "                              ])\n",
    "# end of Bar geometry definition"
   ]
  },
  {
   "cell_type": "markdown",
   "metadata": {},
   "source": [
    "<p> zdefiniowaliśmy kształt, teraz możemy sptrawdzić jak nam poszło. W tym celu wywołamy jedna z funkcji z naszej zaimportowanej biblioteki <i>tml</i> a konkretnie funkcję <i>drawCuShape(macieżGeomertii,Czy są przyłacza LAB,Nazwa Obrazu)</i> z parametrami jak w opisie, wykonując ten blok <b>Shift+ENTER</b>"
   ]
  },
  {
   "cell_type": "code",
   "execution_count": 24,
   "metadata": {
    "collapsed": false
   },
   "outputs": [],
   "source": [
    "tml.drawCuShape(copperBarGeometry,False,'oryginal szyna') #Funkcja przygotowuje grafikę do wyświetlenia\n",
    "#plt.show() #Polecenie wyświetlenia grafiki - pochodzi z zaimportowanej biblioteki matplotlib.pyplot"
   ]
  },
  {
   "cell_type": "markdown",
   "metadata": {},
   "source": [
    "<h2>Mamy już co analilzować</h2>\n",
    "<p>Pora zatem wykonać pierwszą próbną analizę</p>\n",
    "<p>Dla uproszczenia, nie będę tutaj wchodził w szczegółowy opis głównej funkcji analizy termicznej. Myślę jendak, że sama definicja parametrów daje duże wskazówki o czym mowa.</p>\n",
    "<p>Jendak dla porządku, warto przytoczyć, że funkcja <i>mainAnalysis(...)</i> biblioteki <i>tml</i> pracuje w oparciu o kilka podstawowych danych wejściowych:</p>\n",
    "<ul>\n",
    "    <li>wektor kroków czasowych dla analizy\n",
    "    <li>wektor wartości prądu dla kroków czasoeych analizy (to pozwla zadawać zmienny przebieg pradu podczas symulacji)\n",
    "    <li>temperaturę początkową szyny (zakładana jest taka sama dla wszytskich segmentów)\n",
    "    <li>temperaturę otoczenia\n",
    "    <li>parametry materiałowe i nazwę\n",
    " </ul>\n",
    " <p> zdefiniujmy zatem nasza analizę i uruchomimy ją <b>Shift+ENTER</b>"
   ]
  },
  {
   "cell_type": "code",
   "execution_count": 25,
   "metadata": {
    "collapsed": false
   },
   "outputs": [
    {
     "name": "stdout",
     "output_type": "stream",
     "text": [
      "Starting analysis: Second Study\n",
      "\r",
      "Progress: |█-------------------------------------------------| 2.0% Complete\r",
      "\r",
      "Progress: |██------------------------------------------------| 4.1% Complete\r",
      "\r",
      "Progress: |███-----------------------------------------------| 6.1% Complete\r",
      "\r",
      "Progress: |████----------------------------------------------| 8.2% Complete\r",
      "\r",
      "Progress: |█████---------------------------------------------| 10.2% Complete\r",
      "\r",
      "Progress: |██████--------------------------------------------| 12.2% Complete\r",
      "\r",
      "Progress: |███████-------------------------------------------| 14.3% Complete\r",
      "\r",
      "Progress: |████████------------------------------------------| 16.3% Complete\r",
      "\r",
      "Progress: |█████████-----------------------------------------| 18.4% Complete\r",
      "\r",
      "Progress: |██████████----------------------------------------| 20.4% Complete\r",
      "\r",
      "Progress: |███████████---------------------------------------| 22.4% Complete\r",
      "\r",
      "Progress: |████████████--------------------------------------| 24.5% Complete\r",
      "\r",
      "Progress: |█████████████-------------------------------------| 26.5% Complete\r",
      "\r",
      "Progress: |██████████████------------------------------------| 28.6% Complete\r",
      "\r",
      "Progress: |███████████████-----------------------------------| 30.6% Complete\r",
      "\r",
      "Progress: |████████████████----------------------------------| 32.7% Complete\r",
      "\r",
      "Progress: |█████████████████---------------------------------| 34.7% Complete\r",
      "\r",
      "Progress: |██████████████████--------------------------------| 36.7% Complete\r",
      "\r",
      "Progress: |███████████████████-------------------------------| 38.8% Complete\r",
      "\r",
      "Progress: |████████████████████------------------------------| 40.8% Complete\r",
      "\r",
      "Progress: |█████████████████████-----------------------------| 42.9% Complete\r",
      "\r",
      "Progress: |██████████████████████----------------------------| 44.9% Complete\r",
      "\r",
      "Progress: |███████████████████████---------------------------| 46.9% Complete\r",
      "\r",
      "Progress: |████████████████████████--------------------------| 49.0% Complete\r",
      "\r",
      "Progress: |█████████████████████████-------------------------| 51.0% Complete\r",
      "\r",
      "Progress: |██████████████████████████------------------------| 53.1% Complete\r",
      "\r",
      "Progress: |███████████████████████████-----------------------| 55.1% Complete\r",
      "\r",
      "Progress: |████████████████████████████----------------------| 57.1% Complete\r",
      "\r",
      "Progress: |█████████████████████████████---------------------| 59.2% Complete\r",
      "\r",
      "Progress: |██████████████████████████████--------------------| 61.2% Complete\r",
      "\r",
      "Progress: |███████████████████████████████-------------------| 63.3% Complete\r",
      "\r",
      "Progress: |████████████████████████████████------------------| 65.3% Complete\r",
      "\r",
      "Progress: |█████████████████████████████████-----------------| 67.3% Complete\r",
      "\r",
      "Progress: |██████████████████████████████████----------------| 69.4% Complete\r",
      "\r",
      "Progress: |███████████████████████████████████---------------| 71.4% Complete\r",
      "\r",
      "Progress: |████████████████████████████████████--------------| 73.5% Complete\r",
      "\r",
      "Progress: |█████████████████████████████████████-------------| 75.5% Complete\r",
      "\r",
      "Progress: |██████████████████████████████████████------------| 77.6% Complete\r",
      "\r",
      "Progress: |███████████████████████████████████████-----------| 79.6% Complete\r",
      "\r",
      "Progress: |████████████████████████████████████████----------| 81.6% Complete\r",
      "\r",
      "Progress: |█████████████████████████████████████████---------| 83.7% Complete\r",
      "\r",
      "Progress: |██████████████████████████████████████████--------| 85.7% Complete\r",
      "\r",
      "Progress: |███████████████████████████████████████████-------| 87.8% Complete\r",
      "\r",
      "Progress: |████████████████████████████████████████████------| 89.8% Complete\r",
      "\r",
      "Progress: |█████████████████████████████████████████████-----| 91.8% Complete\r",
      "\r",
      "Progress: |██████████████████████████████████████████████----| 93.9% Complete\r",
      "\r",
      "Progress: |███████████████████████████████████████████████---| 95.9% Complete\r",
      "\r",
      "Progress: |████████████████████████████████████████████████--| 98.0% Complete\r",
      "\r",
      "Progress: |██████████████████████████████████████████████████| 100.0% Complete\r\n"
     ]
    }
   ],
   "source": [
    "time = np.arange(0, 10, 0.2) # Zdefiniujmy sobie wektor czasu\n",
    "\n",
    "#Zdefiniujmy funkcję opisująca prąd w czasie\n",
    "def Icw(czas, czasMax, iRMS):\n",
    "    if czas <= czasMax:\n",
    "        return iRMS\n",
    "    else:\n",
    "        return 0\n",
    "    \n",
    "#Zwektoryzujmy nasza funkcję opisująca prąd (zapiszmy jako wektor)\n",
    "Icw_vector = np.vectorize(Icw)\n",
    "current = Icw_vector(time,3,25e3)\n",
    "\n",
    "\n",
    "ResultsData01 = tml.mainAnalysis(analysisName='Second Study',\\\n",
    "                               geometryArray=copperBarGeometry,\\\n",
    "                               timeArray=time,\\\n",
    "                               currentArray=current,\\\n",
    "                               HTC=25, Emiss=0.2,\\\n",
    "                               ambientTemp=25, barStartTemperature=25,\\\n",
    "                               thermalConductivity=401, materialDensity=8920, materialCp=385)\n",
    "\n",
    "tml.plotCurves(timeTable=time,\\\n",
    "               dataArray=ResultsData01,\\\n",
    "               plotName='OryginalGeom_HTC=25.e=0.2',xLabel='time [s]',yLabel='Temperature [degC]',\\\n",
    "               curvesLabelArray = ['0','1','2','3','4','5'])\n",
    "\n"
   ]
  },
  {
   "cell_type": "markdown",
   "metadata": {},
   "source": [
    "<p>a teraz nieco inna zabawa z geometrią. SubSegmentacja - taka wyszukana nazwa</p>\n",
    "<p> Pamiętaj <b>Shift+ENTER</b>.</p>"
   ]
  },
  {
   "cell_type": "code",
   "execution_count": 31,
   "metadata": {
    "collapsed": false
   },
   "outputs": [
    {
     "name": "stdout",
     "output_type": "stream",
     "text": [
      "Nowa ilość segmentów: 24\n"
     ]
    }
   ],
   "source": [
    "#Potnijmy sobie nasza geoemtrie szyny na większą ilośc segmentów (nie zmieniając jej właściwej geometrii)\n",
    "#najpierw import naszej nowej funkcji z modułu geometrycznego naszej paczki\n",
    "\n",
    "from thermalModelLibrary import geometryLib as gml\n",
    "\n",
    "#i teraz\n",
    "copperBarGeometry = gml.slicer(copperBarGeometry)\n",
    "\n",
    "# Zerknijmy jak teraz wygląda nasza geometria \n",
    "tml.drawCuShape(copperBarGeometry,False,'szyna') #Funkcja przygotowuje grafikę do wyświetlenia\n",
    "#plt.show() #Polecenie wyświetlenia grafiki - pochodzi z zaimportowanej biblioteki matplotlib.pyplot\n",
    "\n",
    "print('Nowa ilość segmentów: '+str(copperBarGeometry.shape[0]))"
   ]
  },
  {
   "cell_type": "markdown",
   "metadata": {},
   "source": [
    "<h3>Teraz wykonajmy taką samą analizę dla nowej wersji geometrii.</h3>\n",
    "<p>Już nie trzeba definiować wektorów prądu i czasu, bo zapisaliśmy je jako zmienne.\n",
    "Wystrarczy więc tylko uruchomić analizę i zdefiniować wykres.</p>\n",
    "<p> Na końcu damy jedno wspołne <i>plt.show()</i> dzięki czemu wszytskie grafiki będą w jednym miejscu notatnika</p>"
   ]
  },
  {
   "cell_type": "code",
   "execution_count": 27,
   "metadata": {
    "collapsed": false
   },
   "outputs": [
    {
     "name": "stdout",
     "output_type": "stream",
     "text": [
      "Starting analysis: Second Study\n",
      "\r",
      "Progress: |█-------------------------------------------------| 2.0% Complete\r",
      "\r",
      "Progress: |██------------------------------------------------| 4.1% Complete\r",
      "\r",
      "Progress: |███-----------------------------------------------| 6.1% Complete\r",
      "\r",
      "Progress: |████----------------------------------------------| 8.2% Complete\r",
      "\r",
      "Progress: |█████---------------------------------------------| 10.2% Complete\r",
      "\r",
      "Progress: |██████--------------------------------------------| 12.2% Complete\r",
      "\r",
      "Progress: |███████-------------------------------------------| 14.3% Complete\r",
      "\r",
      "Progress: |████████------------------------------------------| 16.3% Complete\r",
      "\r",
      "Progress: |█████████-----------------------------------------| 18.4% Complete\r",
      "\r",
      "Progress: |██████████----------------------------------------| 20.4% Complete\r",
      "\r",
      "Progress: |███████████---------------------------------------| 22.4% Complete\r",
      "\r",
      "Progress: |████████████--------------------------------------| 24.5% Complete\r",
      "\r",
      "Progress: |█████████████-------------------------------------| 26.5% Complete\r",
      "\r",
      "Progress: |██████████████------------------------------------| 28.6% Complete\r",
      "\r",
      "Progress: |███████████████-----------------------------------| 30.6% Complete\r",
      "\r",
      "Progress: |████████████████----------------------------------| 32.7% Complete\r",
      "\r",
      "Progress: |█████████████████---------------------------------| 34.7% Complete\r",
      "\r",
      "Progress: |██████████████████--------------------------------| 36.7% Complete\r",
      "\r",
      "Progress: |███████████████████-------------------------------| 38.8% Complete\r",
      "\r",
      "Progress: |████████████████████------------------------------| 40.8% Complete\r",
      "\r",
      "Progress: |█████████████████████-----------------------------| 42.9% Complete\r",
      "\r",
      "Progress: |██████████████████████----------------------------| 44.9% Complete\r",
      "\r",
      "Progress: |███████████████████████---------------------------| 46.9% Complete\r",
      "\r",
      "Progress: |████████████████████████--------------------------| 49.0% Complete\r",
      "\r",
      "Progress: |█████████████████████████-------------------------| 51.0% Complete\r",
      "\r",
      "Progress: |██████████████████████████------------------------| 53.1% Complete\r",
      "\r",
      "Progress: |███████████████████████████-----------------------| 55.1% Complete\r",
      "\r",
      "Progress: |████████████████████████████----------------------| 57.1% Complete\r",
      "\r",
      "Progress: |█████████████████████████████---------------------| 59.2% Complete\r",
      "\r",
      "Progress: |██████████████████████████████--------------------| 61.2% Complete\r",
      "\r",
      "Progress: |███████████████████████████████-------------------| 63.3% Complete\r",
      "\r",
      "Progress: |████████████████████████████████------------------| 65.3% Complete\r",
      "\r",
      "Progress: |█████████████████████████████████-----------------| 67.3% Complete\r",
      "\r",
      "Progress: |██████████████████████████████████----------------| 69.4% Complete\r",
      "\r",
      "Progress: |███████████████████████████████████---------------| 71.4% Complete\r",
      "\r",
      "Progress: |████████████████████████████████████--------------| 73.5% Complete\r",
      "\r",
      "Progress: |█████████████████████████████████████-------------| 75.5% Complete\r",
      "\r",
      "Progress: |██████████████████████████████████████------------| 77.6% Complete\r",
      "\r",
      "Progress: |███████████████████████████████████████-----------| 79.6% Complete\r",
      "\r",
      "Progress: |████████████████████████████████████████----------| 81.6% Complete\r",
      "\r",
      "Progress: |█████████████████████████████████████████---------| 83.7% Complete\r",
      "\r",
      "Progress: |██████████████████████████████████████████--------| 85.7% Complete\r",
      "\r",
      "Progress: |███████████████████████████████████████████-------| 87.8% Complete\r",
      "\r",
      "Progress: |████████████████████████████████████████████------| 89.8% Complete\r",
      "\r",
      "Progress: |█████████████████████████████████████████████-----| 91.8% Complete\r",
      "\r",
      "Progress: |██████████████████████████████████████████████----| 93.9% Complete\r",
      "\r",
      "Progress: |███████████████████████████████████████████████---| 95.9% Complete\r",
      "\r",
      "Progress: |████████████████████████████████████████████████--| 98.0% Complete\r",
      "\r",
      "Progress: |██████████████████████████████████████████████████| 100.0% Complete\r\n"
     ]
    },
    {
     "data": {
      "image/png": "[encoded data removed]",
      "text/plain": [
       "<matplotlib.figure.Figure at 0x7f90bc0167f0>"
      ]
     },
     "metadata": {},
     "output_type": "display_data"
    },
    {
     "data": {
      "image/png": "[encoded data removed]",
      "text/plain": [
       "<matplotlib.figure.Figure at 0x7f90bbcabef0>"
      ]
     },
     "metadata": {},
     "output_type": "display_data"
    },
    {
     "data": {
      "image/png": "[encoded data removed]",
      "text/plain": [
       "<matplotlib.figure.Figure at 0x7f90bc5091d0>"
      ]
     },
     "metadata": {},
     "output_type": "display_data"
    },
    {
     "data": {
      "image/png": "[encoded data removed]",
      "text/plain": [
       "<matplotlib.figure.Figure at 0x7f90bc354438>"
      ]
     },
     "metadata": {},
     "output_type": "display_data"
    }
   ],
   "source": [
    "ResultsData02 = tml.mainAnalysis(analysisName='Second Study',\\\n",
    "                               geometryArray=copperBarGeometry,\\\n",
    "                               timeArray=time,\\\n",
    "                               currentArray=current,\\\n",
    "                               HTC=25, Emiss=0.2,\\\n",
    "                               ambientTemp=25, barStartTemperature=25,\\\n",
    "                               thermalConductivity=401, materialDensity=8920, materialCp=385)\n",
    "\n",
    "tml.plotCurves(timeTable=time,\\\n",
    "               dataArray=ResultsData02,\\\n",
    "               plotName='HTC=25.e=0.2',xLabel='time [s]',yLabel='Temperature [degC]',\\\n",
    "               curvesLabelArray = False)\n",
    "plt.show()"
   ]
  },
  {
   "cell_type": "code",
   "execution_count": 30,
   "metadata": {
    "collapsed": false
   },
   "outputs": [
    {
     "name": "stdout",
     "output_type": "stream",
     "text": [
      "[153.73539455189285, 135.40452810963768]\n"
     ]
    }
   ],
   "source": [
    "#poszukajmy maksimum naszej temperatury dla obydwu analiz\n",
    "tempMax = [np.amax(ResultsData01),np.amax(ResultsData02)]\n",
    "print(tempMax)"
   ]
  },
  {
   "cell_type": "markdown",
   "metadata": {},
   "source": [
    "<p> Warto zauważyć, że dokładniejsze odwzorowanie geometrii segmantami wpływa na wartość wyników. Mechanizm z którego to wynika jest dość oczywisty (chodzi o udział przewodnictwa pomiędzy segmentami w transporcie energii). Jednak na ile jest to zbliżanie się do rzeczywistości a na ile błąd?</p>\n",
    "<p> daje do myśelenia choćiażby w odniesieniu do analiz FEM - bo to jest wprost analogia do wielkości elementów siatki.</p>"
   ]
  },
  {
   "cell_type": "markdown",
   "metadata": {},
   "source": [
    "\n",
    "<h3>keep the cience in your heart!</h3>\n",
    "<p>Tomek</p>\n",
    "<div style='background-color: #aaaaaa; font-style: italic;'>#sciencematters</div>"
   ]
  },
  {
   "cell_type": "code",
   "execution_count": null,
   "metadata": {
    "collapsed": true
   },
   "outputs": [],
   "source": []
  }
 ],
 "metadata": {
  "kernelspec": {
   "display_name": "Python 3",
   "language": "python",
   "name": "python3"
  },
  "language_info": {
   "codemirror_mode": {
    "name": "ipython",
    "version": 3
   },
   "file_extension": ".py",
   "mimetype": "text/x-python",
   "name": "python",
   "nbconvert_exporter": "python",
   "pygments_lexer": "ipython3",
   "version": "3.6.0"
  }
 },
 "nbformat": 4,
 "nbformat_minor": 2
}
