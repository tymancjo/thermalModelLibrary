{
 "cells": [
  {
   "cell_type": "markdown",
   "metadata": {},
   "source": [
    "<h2>Who wants a piece of Py?</h2>"
   ]
  },
  {
   "cell_type": "markdown",
   "metadata": {},
   "source": [
    "### <h1>WhoPy #003</h1>\n",
    "<h2>What about the pinted stick ?</h2>"
   ]
  },
  {
   "cell_type": "markdown",
   "metadata": {},
   "source": [
    "Na początek załadujemy kilka gotowych bibliotek python'a\n",
    "importujemy i wykonujemy ten blok <b>Shift+ENTER</b>"
   ]
  },
  {
   "cell_type": "code",
   "execution_count": 1,
   "metadata": {
    "collapsed": true
   },
   "outputs": [],
   "source": [
    "import numpy as np  #to taka biblioteka z funkcjami numerycznymi jak tablice i inne takie tam      \n",
    "import matplotlib.pyplot as plt #to biblioteka pozwalajaca nam wykreslać wykresy\n",
    "from scipy.interpolate import spline\n",
    "from scipy.interpolate import InterpolatedUnivariateSpline"
   ]
  },
  {
   "cell_type": "markdown",
   "metadata": {},
   "source": [
    "teraz czas załadować naszą własną bibliotekę<br>\n",
    "importujemy i wykonujemy ten blok <b>Shift+ENTER</b>"
   ]
  },
  {
   "cell_type": "code",
   "execution_count": 2,
   "metadata": {
    "collapsed": true
   },
   "outputs": [],
   "source": [
    "#importing our own library\n",
    "from thermalModelLibrary import functionsLibrary as tml\n",
    "from thermalModelLibrary import geometryLib as gml"
   ]
  },
  {
   "cell_type": "code",
   "execution_count": 55,
   "metadata": {
    "collapsed": false
   },
   "outputs": [
    {
     "name": "stdout",
     "output_type": "stream",
     "text": [
      "Elementów szyny: 7\n",
      "Starting analysis: Analiza [2]\n",
      "Progress: |██████████████████████████████████████████████████| 100.0% Complete\n",
      "Elementów szyny: 26\n",
      "Starting analysis: Analiza [5]\n",
      "Progress: |██████████████████████████████████████████████████| 100.0% Complete\n",
      "Elementów szyny: 36\n",
      "Starting analysis: Analiza [8]\n",
      "Progress: |██████████████████████████████████████████████████| 100.0% Complete\n",
      "Elementów szyny: 62\n",
      "Starting analysis: Analiza [11]\n",
      "Progress: |██████████████████████████████████████████████████| 100.0% Complete\n",
      "Elementów szyny: 252\n",
      "Starting analysis: Analiza [14]\n",
      "Progress: |██████████████████████████████████████████████████| 100.0% Complete\n"
     ]
    }
   ],
   "source": [
    "time = np.arange(0, 10, 0.002) # Zdefiniujmy sobie wektor czasu\n",
    "#Zdefiniujmy funkcję opisująca prąd w czasie\n",
    "def Icw(czas, czasMax, iRMS):\n",
    "    if czas <= czasMax:\n",
    "        return iRMS\n",
    "    else:\n",
    "        return 0\n",
    "    \n",
    "#Zwektoryzujmy nasza funkcję opisująca prąd (zapiszmy jako wektor)\n",
    "Icw_vector = np.vectorize(Icw)\n",
    "current = Icw_vector(time,3,25e3)\n",
    "\n",
    "\n",
    "masterResultsArray = [] # Superzestaw wszytskich wyników\n",
    "masterIndex = 0 # Indeks \n",
    "\n",
    "tempMaxArray = []\n",
    "segmentsArray = []\n",
    "segmentsXpositionArray = []\n",
    "\n",
    "\n",
    "for analiza in range(2,15,3):\n",
    "\n",
    "    \n",
    "    copperBarGeometry = np.array([\\\n",
    "                                  [40,10,10,0],\\\n",
    "                                  [40,10,15,14],\\\n",
    "                                  [40,10,15-analiza,0],\\\n",
    "                                  [40,10,200,0],\\\n",
    "                                  [40,10,15-analiza,0],\\\n",
    "                                  [40,10,15,14],\\\n",
    "                                  [40,10,10,0],\\\n",
    "                                  ])\n",
    "    if masterIndex > 0: \n",
    "        copperBarGeometry = gml.slicer(copperBarGeometry)\n",
    "    \n",
    "    print('Elementów szyny: '+str(len(copperBarGeometry)))\n",
    "          \n",
    "    masterResultsArray.append(tml.mainAnalysis(analysisName='Analiza ['+str(analiza)+']',\\\n",
    "                               geometryArray=copperBarGeometry,\\\n",
    "                               timeArray=time,\\\n",
    "                               currentArray=current,\\\n",
    "                               HTC=25, Emiss=0.2,\\\n",
    "                               ambientTemp=25, barStartTemperature=25,\\\n",
    "                               thermalConductivity=401, materialDensity=8920, materialCp=385))\n",
    "    \n",
    "    \n",
    "    \n",
    "    # Zapiszmy sobie pozycje X posczegolnych segmentow\n",
    "    \n",
    "    temporatyXpositionArray = []\n",
    "    totalXsoFar = 0.0\n",
    "    \n",
    "    for segment in range(len(copperBarGeometry)):\n",
    "        totalXsoFar += 0.5*copperBarGeometry[segment][2]\n",
    "        temporatyXpositionArray.append(totalXsoFar)\n",
    "        totalXsoFar += 0.5*copperBarGeometry[segment][2]\n",
    "        \n",
    "    segmentsXpositionArray.append(temporatyXpositionArray)\n",
    "    \n",
    "    \n",
    "    #tml.plotCurves(timeTable=time,\\\n",
    "    #           dataArray=masterResultsArray[masterIndex],\\\n",
    "    #           plotName='Symulacja'+str(analiza),xLabel='time [s]',yLabel='Temperature [degC]',\\\n",
    "    #           curvesLabelArray = False)\n",
    "    \n",
    "    \n",
    "    tempMaxArray.append(np.amax(masterResultsArray[masterIndex]))\n",
    "    segmentsArray.append(len(copperBarGeometry))\n",
    "    \n",
    "    masterIndex +=1\n",
    "    \n",
    "\n",
    "\n",
    "\n",
    "\n",
    "\n"
   ]
  },
  {
   "cell_type": "markdown",
   "metadata": {},
   "source": [
    "<p>a teraz nieco inna zabawa z geometrią. SubSegmentacja - taka wyszukana nazwa</p>\n",
    "<p> Pamiętaj <b>Shift+ENTER</b>.</p>"
   ]
  },
  {
   "cell_type": "code",
   "execution_count": 67,
   "metadata": {
    "collapsed": false
   },
   "outputs": [
    {
     "name": "stdout",
     "output_type": "stream",
     "text": [
      "Wyniki dla czasu t=3.0s\n"
     ]
    },
    {
     "data": {
      "image/png": "[encoded data removed]",
      "text/plain": [
       "<matplotlib.figure.Figure at 0x7efd48731518>"
      ]
     },
     "metadata": {},
     "output_type": "display_data"
    }
   ],
   "source": [
    "def temperatureDistribution(timeSample):\n",
    "\n",
    "    fig = plt.figure()\n",
    "    wykres0 = fig.add_subplot(3,2,1)\n",
    "    wykres1 = fig.add_subplot(3,2,2)\n",
    "    wykres2 = fig.add_subplot(3,2,3)\n",
    "    wykres3 = fig.add_subplot(3,2,4)\n",
    "    wykres4 = fig.add_subplot(3,2,5)\n",
    "\n",
    "    print('Wyniki dla czasu t='+str(time[timeSample])+'s')\n",
    "\n",
    "    wykres0.plot(segmentsXpositionArray[0], masterResultsArray[0][timeSample][:])\n",
    "    wykres1.plot(segmentsXpositionArray[1], masterResultsArray[1][timeSample][:])\n",
    "    wykres2.plot(segmentsXpositionArray[2], masterResultsArray[2][timeSample][:])\n",
    "    wykres3.plot(segmentsXpositionArray[3], masterResultsArray[3][timeSample][:])\n",
    "    wykres4.plot(segmentsXpositionArray[4], masterResultsArray[4][timeSample][:])\n",
    "\n",
    "    \n",
    "#interactive plotting in separate window\n",
    "#%matplotlib nbagg\n",
    "#plt.switch_backend('PyQt5')\n",
    "\n",
    "temperatureDistribution(1500)\n",
    "plt.show()"
   ]
  },
  {
   "cell_type": "code",
   "execution_count": 131,
   "metadata": {
    "collapsed": false
   },
   "outputs": [
    {
     "name": "stdout",
     "output_type": "stream",
     "text": [
      "5\n"
     ]
    },
    {
     "data": {
      "image/png": "[encoded data removed]",
      "text/plain": [
       "<matplotlib.figure.Figure at 0x7efd4875ab70>"
      ]
     },
     "metadata": {},
     "output_type": "display_data"
    }
   ],
   "source": [
    "numberOfAnalyses = len(masterResultsArray)\n",
    "print(numberOfAnalyses)\n",
    "\n",
    "def temperatureDistribution(timeSample):\n",
    "\n",
    "    maxTemp = np.amax(tempMaxArray)\n",
    "    minTemp = 25\n",
    "    \n",
    "    fig = plt.figure()\n",
    "    fig.suptitle(\"Comparison of temperatures along bar fot t=\"+str(time[timeSample])+\"s\")\n",
    "\n",
    "    for analysis in range(len(masterResultsArray)):\n",
    "        wykres = fig.add_subplot(3,1+int(len(masterResultsArray)/3),analysis+1)\n",
    "        wykres.plot(segmentsXpositionArray[analysis], masterResultsArray[analysis][timeSample][:])\n",
    "        wykres.set_title('Segments: '+str(segmentsArray[analysis]))\n",
    "        wykres.set_ylim([minTemp, maxTemp])\n",
    "\n",
    "temperatureDistribution(1500)\n",
    "plt.show()\n",
    "    "
   ]
  },
  {
   "cell_type": "markdown",
   "metadata": {},
   "source": [
    "<p> Warto zauważyć, że dokładniejsze odwzorowanie geometrii segmantami wpływa na wartość wyników. Mechanizm z którego to wynika jest dość oczywisty (chodzi o udział przewodnictwa pomiędzy segmentami w transporcie energii). Jednak na ile jest to zbliżanie się do rzeczywistości a na ile błąd?</p>\n",
    "<p> daje do myśelenia choćiażby w odniesieniu do analiz FEM - bo to jest wprost analogia do wielkości elementów siatki.</p>"
   ]
  },
  {
   "cell_type": "code",
   "execution_count": 129,
   "metadata": {
    "collapsed": false
   },
   "outputs": [
    {
     "name": "stdout",
     "output_type": "stream",
     "text": [
      "[[   7.          138.88204759]\n",
      " [  26.          136.28914257]\n",
      " [  36.          132.146106  ]\n",
      " [  62.          130.95771244]\n",
      " [ 252.          130.61905407]]\n"
     ]
    }
   ],
   "source": [
    "daneZanalizy = np.array(list(zip(segmentsArray,tempMaxArray)))\n",
    "\n",
    "print(daneZanalizy)\n"
   ]
  },
  {
   "cell_type": "markdown",
   "metadata": {},
   "source": [
    "\n",
    "<h3>keep the science in your heart!</h3>\n",
    "<p>Tomek</p>\n",
    "<div style='background-color: #aaaaaa; font-style: italic;'>#sciencematters</div>"
   ]
  }
 ],
 "metadata": {
  "kernelspec": {
   "display_name": "Python 3",
   "language": "python",
   "name": "python3"
  },
  "language_info": {
   "codemirror_mode": {
    "name": "ipython",
    "version": 3
   },
   "file_extension": ".py",
   "mimetype": "text/x-python",
   "name": "python",
   "nbconvert_exporter": "python",
   "pygments_lexer": "ipython3",
   "version": "3.6.0"
  }
 },
 "nbformat": 4,
 "nbformat_minor": 2
}
