{
 "cells": [
  {
   "cell_type": "code",
   "execution_count": 1,
   "metadata": {
    "collapsed": false
   },
   "outputs": [
    {
     "name": "stdout",
     "output_type": "stream",
     "text": [
      "[[ 0.  0.  0.  0.  0.  0.  0.  0.  0.  0.  0.  0.  0.  0.  0.  0.  0.  0.]\n",
      " [ 0.  0.  0.  0.  0.  0.  0.  0.  0.  0.  0.  0.  0.  0.  0.  0.  0.  0.]\n",
      " [ 0.  0.  0.  0.  0.  0.  0.  0.  0.  0.  0.  0.  0.  0.  0.  0.  0.  0.]\n",
      " [ 0.  0.  0.  0.  0.  1.  1.  0.  0.  0.  0.  0.  0.  0.  0.  0.  0.  0.]\n",
      " [ 0.  0.  0.  0.  1.  1.  1.  1.  0.  0.  0.  0.  0.  0.  0.  0.  0.  0.]\n",
      " [ 0.  0.  0.  0.  1.  0.  1.  0.  0.  0.  0.  0.  0.  0.  0.  0.  0.  0.]\n",
      " [ 0.  0.  0.  0.  1.  0.  1.  1.  1.  0.  0.  0.  0.  0.  0.  0.  0.  0.]\n",
      " [ 0.  0.  0.  0.  1.  0.  0.  0.  0.  1.  1.  1.  1.  0.  0.  0.  0.  0.]\n",
      " [ 0.  0.  0.  0.  0.  1.  0.  0.  0.  0.  0.  0.  1.  0.  0.  0.  0.  0.]\n",
      " [ 0.  0.  0.  0.  0.  1.  0.  0.  0.  0.  1.  1.  1.  0.  0.  0.  0.  0.]\n",
      " [ 0.  0.  0.  0.  0.  1.  1.  1.  1.  1.  1.  0.  0.  0.  0.  0.  0.  0.]\n",
      " [ 0.  0.  0.  0.  0.  0.  0.  0.  0.  0.  0.  0.  0.  0.  0.  0.  0.  0.]\n",
      " [ 0.  0.  0.  0.  0.  0.  0.  0.  0.  0.  0.  0.  0.  0.  0.  0.  0.  0.]\n",
      " [ 0.  0.  0.  0.  0.  0.  0.  0.  0.  0.  0.  0.  0.  0.  0.  0.  0.  0.]\n",
      " [ 0.  0.  0.  0.  0.  0.  0.  0.  0.  0.  0.  0.  0.  0.  0.  0.  0.  0.]\n",
      " [ 0.  0.  0.  0.  0.  0.  0.  0.  0.  0.  0.  0.  0.  0.  0.  0.  0.  0.]\n",
      " [ 0.  0.  0.  0.  0.  0.  0.  0.  0.  0.  0.  0.  0.  0.  0.  0.  0.  0.]\n",
      " [ 0.  0.  0.  0.  0.  0.  0.  0.  0.  0.  0.  0.  0.  0.  0.  0.  0.  0.]]\n"
     ]
    }
   ],
   "source": [
    "from tkinter import *\n",
    "import functools\n",
    "import numpy as np\n",
    "\n",
    "canvas_width = 500\n",
    "canvas_height = 500\n",
    "\n",
    "elementsInX = 20\n",
    "elementsInY = 20\n",
    "\n",
    "\n",
    "\n",
    "dX = int(canvas_width / elementsInX)\n",
    "dY = int(canvas_height / elementsInY)\n",
    "\n",
    "XSecArray = np.zeros(shape=[elementsInY-2,elementsInX-2])\n",
    "\n",
    "def checkered(canvas, line_distance):\n",
    "   # vertical lines at an interval of \"line_distance\" pixel\n",
    "   for x in range(line_distance,canvas_width,line_distance):\n",
    "      canvas.create_line(x, line_distance, x, canvas_height-line_distance, fill=\"gray\")\n",
    "   # horizontal lines at an interval of \"line_distance\" pixel\n",
    "   for y in range(line_distance,canvas_height,line_distance):\n",
    "      canvas.create_line(line_distance, y, canvas_width-line_distance, y, fill=\"gray\")\n",
    "\n",
    "def showXsecArray(event):\n",
    "    print(XSecArray)\n",
    "\n",
    "def setUpPoint( event, Set ):\n",
    "    \n",
    "      \n",
    "    Col = int(event.x/dX)\n",
    "    Row = int(event.y/dY)\n",
    "    \n",
    "    if event.x < canvas_width-dX and event.y < canvas_height-dY and event.x > dX and event.y > dY:\n",
    "        inCanvas = True\n",
    "    else:\n",
    "        inCanvas = False\n",
    "        \n",
    "    \n",
    "    if Set and inCanvas:\n",
    "        w.create_rectangle(Col*dX, Row*dY, Col*dX+dX, Row*dY+dY, fill=\"orange\", outline=\"gray\")\n",
    "        XSecArray[Row-1][Col-1] = 1\n",
    "        \n",
    "    elif not(Set) and inCanvas:\n",
    "        w.create_rectangle(Col*dX, Row*dY, Col*dX+dX, Row*dY+dY, fill=\"white\", outline=\"gray\")\n",
    "        XSecArray[Row-1][Col-1] = 0\n",
    "        \n",
    "        \n",
    "master = Tk()\n",
    "master.title( \"Painting using Ovals\" )\n",
    "\n",
    "w = Canvas(master, \n",
    "           width=canvas_width, \n",
    "           height=canvas_height)\n",
    "w.configure(background='white')\n",
    "w.pack(expand = YES, fill = BOTH)\n",
    "\n",
    "w.bind( \"<Button 1>\", functools.partial(setUpPoint, Set=True))\n",
    "w.bind( \"<Button 3>\", functools.partial(setUpPoint, Set=False))\n",
    "w.bind( \"<B1-Motion>\", functools.partial(setUpPoint, Set=True))\n",
    "w.bind( \"<B3-Motion>\", functools.partial(setUpPoint, Set=False))\n",
    "\n",
    "w.bind( \"<Button 2>\", showXsecArray)\n",
    "\n",
    "\n",
    "message = Label( master, text = \"Press and Drag the mouse to draw\" )\n",
    "message.pack( side = BOTTOM )\n",
    "master.resizable(width=False, height=False)    \n",
    "\n",
    "checkered(w, dX)\n",
    "\n",
    "mainloop()"
   ]
  },
  {
   "cell_type": "code",
   "execution_count": null,
   "metadata": {
    "collapsed": true
   },
   "outputs": [],
   "source": []
  }
 ],
 "metadata": {
  "kernelspec": {
   "display_name": "Python 3",
   "language": "python",
   "name": "python3"
  },
  "language_info": {
   "codemirror_mode": {
    "name": "ipython",
    "version": 3
   },
   "file_extension": ".py",
   "mimetype": "text/x-python",
   "name": "python",
   "nbconvert_exporter": "python",
   "pygments_lexer": "ipython3",
   "version": "3.6.0"
  }
 },
 "nbformat": 4,
 "nbformat_minor": 2
}
