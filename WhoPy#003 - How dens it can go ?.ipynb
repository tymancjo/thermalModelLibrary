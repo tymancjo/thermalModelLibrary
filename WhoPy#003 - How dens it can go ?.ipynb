{
 "cells": [
  {
   "cell_type": "markdown",
   "metadata": {},
   "source": [
    "<h2>Who wants a piece of Py?</h2>"
   ]
  },
  {
   "cell_type": "markdown",
   "metadata": {},
   "source": [
    "<h1>WhoPy #002</h1>\n",
    "<h2>More fun with the library</h2>"
   ]
  },
  {
   "cell_type": "markdown",
   "metadata": {},
   "source": [
    "Na początek załadujemy kilka gotowych bibliotek python'a\n",
    "importujemy i wykonujemy ten blok <b>Shift+ENTER</b>"
   ]
  },
  {
   "cell_type": "code",
   "execution_count": 1,
   "metadata": {
    "collapsed": true
   },
   "outputs": [],
   "source": [
    "import numpy as np  #to taka biblioteka z funkcjami numerycznymi jak tablice i inne takie tam      \n",
    "import matplotlib.pyplot as plt #to biblioteka pozwalajaca nam wykreslać wykresy\n",
    "from scipy.interpolate import spline\n",
    "from scipy.interpolate import InterpolatedUnivariateSpline"
   ]
  },
  {
   "cell_type": "markdown",
   "metadata": {},
   "source": [
    "teraz czas załadować naszą własną bibliotekę<br>\n",
    "importujemy i wykonujemy ten blok <b>Shift+ENTER</b>"
   ]
  },
  {
   "cell_type": "code",
   "execution_count": 2,
   "metadata": {
    "collapsed": true
   },
   "outputs": [],
   "source": [
    "#importing our own library\n",
    "from thermalModelLibrary import functionsLibrary as tml\n",
    "from thermalModelLibrary import geometryLib as gml"
   ]
  },
  {
   "cell_type": "code",
   "execution_count": 3,
   "metadata": {
    "collapsed": false
   },
   "outputs": [
    {
     "name": "stdout",
     "output_type": "stream",
     "text": [
      "Elementów szyny: 6\n",
      "Starting analysis: Analiza [5]\n",
      "Progress: |██████████████████████████████████████████████████| 100.0% Complete\n",
      "Elementów szyny: 27\n",
      "Starting analysis: Analiza [6]\n",
      "Progress: |██████████████████████████████████████████████████| 100.0% Complete\n",
      "Elementów szyny: 30\n",
      "Starting analysis: Analiza [7]\n",
      "Progress: |██████████████████████████████████████████████████| 100.0% Complete\n",
      "Elementów szyny: 35\n",
      "Starting analysis: Analiza [8]\n",
      "Progress: |██████████████████████████████████████████████████| 100.0% Complete\n",
      "Elementów szyny: 40\n",
      "Starting analysis: Analiza [9]\n",
      "Progress: |██████████████████████████████████████████████████| 100.0% Complete\n",
      "Elementów szyny: 51\n",
      "Starting analysis: Analiza [10]\n",
      "Progress: |██████████████████████████████████████████████████| 100.0% Complete\n",
      "Elementów szyny: 61\n",
      "Starting analysis: Analiza [11]\n",
      "Progress: |██████████████████████████████████████████████████| 100.0% Complete\n",
      "Elementów szyny: 83\n",
      "Starting analysis: Analiza [12]\n",
      "Progress: |██████████████████████████████████████████████████| 100.0% Complete\n",
      "Elementów szyny: 125\n",
      "Starting analysis: Analiza [13]\n",
      "Progress: |██████████████████████████████████████████████████| 100.0% Complete\n",
      "Elementów szyny: 251\n",
      "Starting analysis: Analiza [14]\n",
      "Progress: |██████████████████████████████████████████████████| 100.0% Complete\n"
     ]
    }
   ],
   "source": [
    "time = np.arange(0, 10, 0.002) # Zdefiniujmy sobie wektor czasu\n",
    "#Zdefiniujmy funkcję opisująca prąd w czasie\n",
    "def Icw(czas, czasMax, iRMS):\n",
    "    if czas <= czasMax:\n",
    "        return iRMS\n",
    "    else:\n",
    "        return 0\n",
    "    \n",
    "#Zwektoryzujmy nasza funkcję opisująca prąd (zapiszmy jako wektor)\n",
    "Icw_vector = np.vectorize(Icw)\n",
    "current = Icw_vector(time,3,25e3)\n",
    "\n",
    "\n",
    "masterResultsArray = []\n",
    "masterIndex = 0\n",
    "tempMaxArray = []\n",
    "segmentsArray = []\n",
    "\n",
    "for analiza in range(5,15,1):\n",
    "    copperBarGeometry = np.array([\\\n",
    "                                  [40,10,10,0],\\\n",
    "                                  [40,10,15,14],\\\n",
    "                                  [40,10,15-analiza,0],\\\n",
    "                                  [40,10,200,0],\\\n",
    "                                  [40,10,15,14],\\\n",
    "                                  [40,10,10,0],\\\n",
    "                                  ])\n",
    "    if masterIndex > 0:\n",
    "        copperBarGeometry = gml.slicer(copperBarGeometry)\n",
    "    \n",
    "    print('Elementów szyny: '+str(len(copperBarGeometry)))\n",
    "          \n",
    "    masterResultsArray.append(tml.mainAnalysis(analysisName='Analiza ['+str(analiza)+']',\\\n",
    "                               geometryArray=copperBarGeometry,\\\n",
    "                               timeArray=time,\\\n",
    "                               currentArray=current,\\\n",
    "                               HTC=25, Emiss=0.2,\\\n",
    "                               ambientTemp=25, barStartTemperature=25,\\\n",
    "                               thermalConductivity=401, materialDensity=8920, materialCp=385))\n",
    "    #tml.plotCurves(timeTable=time,\\\n",
    "    #           dataArray=masterResultsArray[masterIndex],\\\n",
    "    #           plotName='Symulacja'+str(analiza),xLabel='time [s]',yLabel='Temperature [degC]',\\\n",
    "    #           curvesLabelArray = False)\n",
    "    \n",
    "    \n",
    "    tempMaxArray.append(np.amax(masterResultsArray[masterIndex]))\n",
    "    segmentsArray.append(len(copperBarGeometry))\n",
    "    \n",
    "    masterIndex +=1\n",
    "    \n",
    "\n",
    "\n",
    "\n",
    "\n",
    "\n"
   ]
  },
  {
   "cell_type": "markdown",
   "metadata": {},
   "source": [
    "<p>a teraz nieco inna zabawa z geometrią. SubSegmentacja - taka wyszukana nazwa</p>\n",
    "<p> Pamiętaj <b>Shift+ENTER</b>.</p>"
   ]
  },
  {
   "cell_type": "code",
   "execution_count": 4,
   "metadata": {
    "collapsed": false
   },
   "outputs": [
    {
     "data": {
      "image/png": "[encoded data removed]",
      "text/plain": [
       "<matplotlib.figure.Figure at 0x7f6d278fa7b8>"
      ]
     },
     "metadata": {},
     "output_type": "display_data"
    }
   ],
   "source": [
    "fig = plt.figure()\n",
    "wykres0 = fig.add_subplot(2,1,1)\n",
    "wykres0A = fig.add_subplot(2,1,2)\n",
    "\n",
    "wykres0.plot(segmentsArray, tempMaxArray)\n",
    "\n",
    "xnew = np.linspace(25,125,125) \n",
    "power_smooth = spline(segmentsArray,tempMaxArray,xnew)\n",
    "\n",
    "\n",
    "spl = InterpolatedUnivariateSpline(segmentsArray,tempMaxArray)\n",
    "\n",
    "wykres0A.plot(xnew, spl(xnew), 'r', lw=3, alpha=0.7)\n",
    "\n",
    "\n",
    "\n",
    "\n",
    "plt.show()\n"
   ]
  },
  {
   "cell_type": "markdown",
   "metadata": {},
   "source": [
    "<p> Warto zauważyć, że dokładniejsze odwzorowanie geometrii segmantami wpływa na wartość wyników. Mechanizm z którego to wynika jest dość oczywisty (chodzi o udział przewodnictwa pomiędzy segmentami w transporcie energii). Jednak na ile jest to zbliżanie się do rzeczywistości a na ile błąd?</p>\n",
    "<p> daje do myśelenia choćiażby w odniesieniu do analiz FEM - bo to jest wprost analogia do wielkości elementów siatki.</p>"
   ]
  },
  {
   "cell_type": "code",
   "execution_count": 10,
   "metadata": {
    "collapsed": false
   },
   "outputs": [
    {
     "name": "stdout",
     "output_type": "stream",
     "text": [
      "[[   6.          155.04584392]\n",
      " [  27.          136.20956391]\n",
      " [  30.          136.12386747]\n",
      " [  35.          132.15045081]\n",
      " [  40.          132.08886034]\n",
      " [  51.          130.99950745]\n",
      " [  61.          130.95771244]\n",
      " [  83.          130.72257592]\n",
      " [ 125.          130.72134972]\n",
      " [ 251.          130.61905407]]\n"
     ]
    }
   ],
   "source": [
    "daneZanalizy = np.array(list(zip(segmentsArray,tempMaxArray)))\n",
    "\n",
    "print(daneZanalizy)\n"
   ]
  },
  {
   "cell_type": "markdown",
   "metadata": {},
   "source": [
    "\n",
    "<h3>keep the science in your heart!</h3>\n",
    "<p>Tomek</p>\n",
    "<div style='background-color: #aaaaaa; font-style: italic;'>#sciencematters</div>"
   ]
  }
 ],
 "metadata": {
  "kernelspec": {
   "display_name": "Python 3",
   "language": "python",
   "name": "python3"
  },
  "language_info": {
   "codemirror_mode": {
    "name": "ipython",
    "version": 3
   },
   "file_extension": ".py",
   "mimetype": "text/x-python",
   "name": "python",
   "nbconvert_exporter": "python",
   "pygments_lexer": "ipython3",
   "version": "3.6.0"
  }
 },
 "nbformat": 4,
 "nbformat_minor": 2
}
